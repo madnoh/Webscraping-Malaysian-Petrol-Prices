{
 "metadata": {
  "language_info": {
   "codemirror_mode": {
    "name": "ipython",
    "version": 3
   },
   "file_extension": ".py",
   "mimetype": "text/x-python",
   "name": "python",
   "nbconvert_exporter": "python",
   "pygments_lexer": "ipython3",
   "version": "3.8.6-final"
  },
  "orig_nbformat": 2,
  "kernelspec": {
   "name": "python38664bit2fb4239cdf7a46c58651f09192378be8",
   "display_name": "Python 3.8.6 64-bit",
   "language": "python"
  }
 },
 "nbformat": 4,
 "nbformat_minor": 2,
 "cells": [
  {
   "source": [
    "Script to scrape prices of RON95, RON95 and Diesel fuel in Malaysia. These prices are updated every week around 1700hrs Malaysian Time. Output is Malaysian Ringgit (RM). Source: https://petrolpricemalaysia.info/'"
   ],
   "cell_type": "markdown",
   "metadata": {}
  },
  {
   "cell_type": "code",
   "execution_count": 1,
   "metadata": {},
   "outputs": [],
   "source": [
    "from bs4 import BeautifulSoup\n",
    "import requests"
   ]
  },
  {
   "cell_type": "code",
   "execution_count": 2,
   "metadata": {},
   "outputs": [],
   "source": [
    "headers = {\n",
    "    'User-Agent': 'My User Agent 1.0',\n",
    "    'From': 'youremail@domain.com'\n",
    "    }\n",
    "r = requests.get('https://petrolpricemalaysia.info/', headers=headers)\n",
    "soup = BeautifulSoup(r.text, 'lxml')"
   ]
  },
  {
   "cell_type": "code",
   "execution_count": 8,
   "metadata": {},
   "outputs": [],
   "source": [
    "fuel = [float(soup.find('div', {'class': f'rpt_price rpt_price_{i}'}).text.replace('RM','')) for i in range(3)]\n",
    "period = soup.find_all('h1')[1].text"
   ]
  },
  {
   "cell_type": "code",
   "execution_count": 9,
   "metadata": {},
   "outputs": [
    {
     "output_type": "stream",
     "name": "stdout",
     "text": [
      "Updated for 2 Jan to 8 Jan 2021\nRON95 = 1.84 \nRON97 = 2.14 \nDiesel = 2.01\n"
     ]
    }
   ],
   "source": [
    "print(period)\n",
    "print(f'RON95 = {fuel[0]} \\nRON97 = {fuel[1]} \\nDiesel = {fuel[2]}')"
   ]
  }
 ]
}
