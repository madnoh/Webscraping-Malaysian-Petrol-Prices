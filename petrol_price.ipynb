{
 "metadata": {
  "language_info": {
   "codemirror_mode": {
    "name": "ipython",
    "version": 3
   },
   "file_extension": ".py",
   "mimetype": "text/x-python",
   "name": "python",
   "nbconvert_exporter": "python",
   "pygments_lexer": "ipython3",
   "version": 3
  },
  "orig_nbformat": 2,
  "kernelspec": {
   "name": "python_defaultSpec_1595816310361",
   "display_name": "Python 3.8.5 64-bit"
  }
 },
 "nbformat": 4,
 "nbformat_minor": 2,
 "cells": [
  {
   "cell_type": "code",
   "execution_count": 114,
   "metadata": {},
   "outputs": [],
   "source": [
    "import requests\n",
    "from bs4 import BeautifulSoup\n",
    "\n",
    "headers = {\n",
    "    'authority': 'www.petrolpricemalaysia.com',\n",
    "    'cache-control': 'no-cache',\n",
    "    'upgrade-insecure-requests': '1',\n",
    "    'user-agent': 'Mozilla/5.0 (Windows NT 10.0; Win64; x64) AppleWebKit/537.36 (KHTML, like Gecko) Chrome/84.0.4147.89 Safari/537.36 Edg/84.0.522.44',\n",
    "    'accept': 'image/webp,image/apng,image/*,*/*;q=0.8',\n",
    "    'sec-fetch-site': 'same-origin',\n",
    "    'sec-fetch-mode': 'no-cors',\n",
    "    'sec-fetch-user': '?1',\n",
    "    'sec-fetch-dest': 'image',\n",
    "    'referer': 'https://www.petrolpricemalaysia.com/',\n",
    "    'accept-language': 'en-GB,en;q=0.9,en-US;q=0.8',\n",
    "    'dnt': '1',\n",
    "    'if-none-match': 'W/\"d982ffc62c264563fe92a0bfe3538560d6bf1dbfcecfc2fc4a62bc665c4ca92a\"',\n",
    "    'Referer': '',\n",
    "    'User-Agent': 'Mozilla/5.0 (Windows NT 10.0; Win64; x64) AppleWebKit/537.36 (KHTML, like Gecko) Chrome/84.0.4147.89 Safari/537.36 Edg/84.0.522.44',\n",
    "    'pragma': 'no-cache',\n",
    "}\n",
    "\n",
    "response = requests.get('https://www.petrolpricemalaysia.com/')\n",
    "soup = BeautifulSoup(response.text, 'html.parser')"
   ]
  },
  {
   "cell_type": "code",
   "execution_count": 115,
   "metadata": {},
   "outputs": [],
   "source": [
    "def get_dates(n): \n",
    "    return n.split(' to ')[0], n.split(' to ')[1]"
   ]
  },
  {
   "cell_type": "code",
   "execution_count": 116,
   "metadata": {
    "tags": []
   },
   "outputs": [],
   "source": [
    "def get_price(n):\n",
    "    n = n.split(' ')[-1]\n",
    "    return float(n[2:])"
   ]
  },
  {
   "cell_type": "code",
   "execution_count": 117,
   "metadata": {
    "tags": []
   },
   "outputs": [],
   "source": [
    "week_prices = []\n",
    "period = soup.find_all('h2', {'class': 'title'})[0]\n",
    "period = period.text.strip()\n",
    "week_prices.append(get_dates(period)[0])\n",
    "week_prices.append(get_dates(period)[1])"
   ]
  },
  {
   "cell_type": "code",
   "execution_count": 118,
   "metadata": {
    "tags": []
   },
   "outputs": [],
   "source": [
    "prices = soup.find_all('b')[0:3]\n",
    "for ele in prices:\n",
    "    price_str = ele.text.strip()\n",
    "    week_prices.append(get_price(price_str))"
   ]
  },
  {
   "cell_type": "code",
   "execution_count": 119,
   "metadata": {
    "tags": []
   },
   "outputs": [
    {
     "output_type": "stream",
     "name": "stdout",
     "text": "['25 July 2020', '31 July 2020', 1.68, 1.98, 1.82]\n"
    }
   ],
   "source": [
    "print(week_prices)"
   ]
  },
  {
   "cell_type": "code",
   "execution_count": null,
   "metadata": {},
   "outputs": [],
   "source": []
  }
 ]
}